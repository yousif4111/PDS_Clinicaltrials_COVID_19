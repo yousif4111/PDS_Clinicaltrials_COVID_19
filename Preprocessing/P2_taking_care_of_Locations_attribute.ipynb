{
  "nbformat": 4,
  "nbformat_minor": 0,
  "metadata": {
    "colab": {
      "name": "P2_taking_care_of_Locations_attribute",
      "provenance": [],
      "collapsed_sections": [],
      "toc_visible": true
    },
    "kernelspec": {
      "name": "python3",
      "display_name": "Python 3"
    }
  },
  "cells": [
    {
      "cell_type": "markdown",
      "metadata": {
        "id": "90G5wv3K1Ksz"
      },
      "source": [
        "# Preprocessing **Location** Column"
      ]
    },
    {
      "cell_type": "code",
      "metadata": {
        "id": "KHnb58940XFo"
      },
      "source": [
        "import pandas as pd"
      ],
      "execution_count": 1,
      "outputs": []
    },
    {
      "cell_type": "code",
      "metadata": {
        "id": "xQXo30ZA1X19"
      },
      "source": [
        "data=pd.read_csv(\"COVID_19_CCT.csv\")"
      ],
      "execution_count": 2,
      "outputs": []
    },
    {
      "cell_type": "code",
      "metadata": {
        "colab": {
          "base_uri": "https://localhost:8080/"
        },
        "id": "WgJHGkH_1fRS",
        "outputId": "f59d6d33-2163-4bbb-d539-aa7d4b5ab363"
      },
      "source": [
        "data['Locations']"
      ],
      "execution_count": 3,
      "outputs": [
        {
          "output_type": "execute_result",
          "data": {
            "text/plain": [
              "0       Washington University School of Medicine, Sain...\n",
              "1       Johns Hopkins University, Baltimore, Maryland,...\n",
              "2       Tufts Medical Center, Boston, Massachusetts, U...\n",
              "3        Carla Kikken-Jussen, Vaals, Limburg, Netherlands\n",
              "4       Department of Medicine, Civil Hospital and B J...\n",
              "                              ...                        \n",
              "2046    Novagenix Drug R&D Center, Akyurt, Ankara, Tur...\n",
              "2047    ICDDRB, Dhaka, Bangladesh|Kinshasa School of P...\n",
              "2048    Novagenix Drug R&D Center, Akyurt, Ankara, Tur...\n",
              "2049    Ruijin Hospital Shanghai Jiao Tong University ...\n",
              "2050    University of Alabama 1600 7th ave, Birmingham...\n",
              "Name: Locations, Length: 2051, dtype: object"
            ]
          },
          "metadata": {
            "tags": []
          },
          "execution_count": 3
        }
      ]
    },
    {
      "cell_type": "markdown",
      "metadata": {
        "id": "kyLDMY7R6ySW"
      },
      "source": [
        "**Objective** to show only the country name\r\n",
        "\r\n",
        "Methodolgy: a dataset that contain the country names will substitue the full address only with country name with help of for loop, if condition, and loc funcion"
      ]
    },
    {
      "cell_type": "code",
      "metadata": {
        "id": "Emf01KX_6uhj"
      },
      "source": [
        "# Obtaining th countries names data\r\n",
        "country=pd.read_csv('https://raw.githubusercontent.com/datasets/country-list/master/data.csv')"
      ],
      "execution_count": 4,
      "outputs": []
    },
    {
      "cell_type": "code",
      "metadata": {
        "id": "gvtUt5os6_xS"
      },
      "source": [
        "for i in country['Name']:\r\n",
        "  for j in data['Locations']:\r\n",
        "    if i in j:\r\n",
        "      data.loc[data['Locations'].str.contains(i), 'Locations']=i"
      ],
      "execution_count": 5,
      "outputs": []
    },
    {
      "cell_type": "code",
      "metadata": {
        "colab": {
          "base_uri": "https://localhost:8080/"
        },
        "id": "RMQALUeRJvhA",
        "outputId": "65068bc1-479f-4ad5-d159-b11682dfcd37"
      },
      "source": [
        "data['Locations']"
      ],
      "execution_count": 6,
      "outputs": [
        {
          "output_type": "execute_result",
          "data": {
            "text/plain": [
              "0       United States\n",
              "1       United States\n",
              "2       United States\n",
              "3         Netherlands\n",
              "4               India\n",
              "            ...      \n",
              "2046           Turkey\n",
              "2047       Bangladesh\n",
              "2048           Turkey\n",
              "2049            China\n",
              "2050          Belgium\n",
              "Name: Locations, Length: 2051, dtype: object"
            ]
          },
          "metadata": {
            "tags": []
          },
          "execution_count": 6
        }
      ]
    },
    {
      "cell_type": "code",
      "metadata": {
        "id": "0n-vpMrsJ0L0",
        "colab": {
          "base_uri": "https://localhost:8080/",
          "height": 1000
        },
        "outputId": "d9097b50-b347-4210-da20-f0a7d742061e"
      },
      "source": [
        "data"
      ],
      "execution_count": 7,
      "outputs": [
        {
          "output_type": "execute_result",
          "data": {
            "text/html": [
              "<div>\n",
              "<style scoped>\n",
              "    .dataframe tbody tr th:only-of-type {\n",
              "        vertical-align: middle;\n",
              "    }\n",
              "\n",
              "    .dataframe tbody tr th {\n",
              "        vertical-align: top;\n",
              "    }\n",
              "\n",
              "    .dataframe thead th {\n",
              "        text-align: right;\n",
              "    }\n",
              "</style>\n",
              "<table border=\"1\" class=\"dataframe\">\n",
              "  <thead>\n",
              "    <tr style=\"text-align: right;\">\n",
              "      <th></th>\n",
              "      <th>Unnamed: 0</th>\n",
              "      <th>Title</th>\n",
              "      <th>Status</th>\n",
              "      <th>Interventions</th>\n",
              "      <th>Gender</th>\n",
              "      <th>Age</th>\n",
              "      <th>Phases</th>\n",
              "      <th>Enrollment</th>\n",
              "      <th>Start Date</th>\n",
              "      <th>Completion Date</th>\n",
              "      <th>Locations</th>\n",
              "      <th>URL</th>\n",
              "    </tr>\n",
              "  </thead>\n",
              "  <tbody>\n",
              "    <tr>\n",
              "      <th>0</th>\n",
              "      <td>0</td>\n",
              "      <td>Duvelisib to Combat COVID-19</td>\n",
              "      <td>Recruiting</td>\n",
              "      <td>Drug: Duvelisib|Procedure: Peripheral blood dr...</td>\n",
              "      <td>All</td>\n",
              "      <td>18 Years and older   (Adult, Older Adult)</td>\n",
              "      <td>Phase 2</td>\n",
              "      <td>28.0</td>\n",
              "      <td>October 12, 2020</td>\n",
              "      <td>April 30, 2022</td>\n",
              "      <td>United States</td>\n",
              "      <td>https://ClinicalTrials.gov/show/NCT04372602</td>\n",
              "    </tr>\n",
              "    <tr>\n",
              "      <th>1</th>\n",
              "      <td>1</td>\n",
              "      <td>Decitabine for Coronavirus (COVID-19) Pneumoni...</td>\n",
              "      <td>Recruiting</td>\n",
              "      <td>Drug: Decitabine|Other: Placebo Saline</td>\n",
              "      <td>All</td>\n",
              "      <td>18 Years and older   (Adult, Older Adult)</td>\n",
              "      <td>Phase 2</td>\n",
              "      <td>40.0</td>\n",
              "      <td>September 14, 2020</td>\n",
              "      <td>July 2021</td>\n",
              "      <td>United States</td>\n",
              "      <td>https://ClinicalTrials.gov/show/NCT04482621</td>\n",
              "    </tr>\n",
              "    <tr>\n",
              "      <th>2</th>\n",
              "      <td>2</td>\n",
              "      <td>A Phase 2 Trial of Infliximab in Coronavirus D...</td>\n",
              "      <td>Recruiting</td>\n",
              "      <td>Drug: Infliximab</td>\n",
              "      <td>All</td>\n",
              "      <td>18 Years and older   (Adult, Older Adult)</td>\n",
              "      <td>Phase 2</td>\n",
              "      <td>17.0</td>\n",
              "      <td>June 1, 2020</td>\n",
              "      <td>December 2020</td>\n",
              "      <td>United States</td>\n",
              "      <td>https://ClinicalTrials.gov/show/NCT04425538</td>\n",
              "    </tr>\n",
              "    <tr>\n",
              "      <th>3</th>\n",
              "      <td>3</td>\n",
              "      <td>Safety &amp; Performance Evaluation of Seraph 100 ...</td>\n",
              "      <td>Not yet recruiting</td>\n",
              "      <td>Device: Seraph 100</td>\n",
              "      <td>All</td>\n",
              "      <td>18 Years to 90 Years   (Adult, Older Adult)</td>\n",
              "      <td>Not Applicable</td>\n",
              "      <td>42.0</td>\n",
              "      <td>December 15, 2020</td>\n",
              "      <td>April 15, 2021</td>\n",
              "      <td>Netherlands</td>\n",
              "      <td>https://ClinicalTrials.gov/show/NCT04547257</td>\n",
              "    </tr>\n",
              "    <tr>\n",
              "      <th>4</th>\n",
              "      <td>4</td>\n",
              "      <td>Safety and Efficacy of C21 in Subjects With CO...</td>\n",
              "      <td>Completed</td>\n",
              "      <td>Drug: C21|Drug: Placebo</td>\n",
              "      <td>All</td>\n",
              "      <td>18 Years to 70 Years   (Adult, Older Adult)</td>\n",
              "      <td>Phase 2</td>\n",
              "      <td>106.0</td>\n",
              "      <td>July 21, 2020</td>\n",
              "      <td>October 13, 2020</td>\n",
              "      <td>India</td>\n",
              "      <td>https://ClinicalTrials.gov/show/NCT04452435</td>\n",
              "    </tr>\n",
              "    <tr>\n",
              "      <th>...</th>\n",
              "      <td>...</td>\n",
              "      <td>...</td>\n",
              "      <td>...</td>\n",
              "      <td>...</td>\n",
              "      <td>...</td>\n",
              "      <td>...</td>\n",
              "      <td>...</td>\n",
              "      <td>...</td>\n",
              "      <td>...</td>\n",
              "      <td>...</td>\n",
              "      <td>...</td>\n",
              "      <td>...</td>\n",
              "    </tr>\n",
              "    <tr>\n",
              "      <th>2046</th>\n",
              "      <td>2046</td>\n",
              "      <td>Bioequivalence Study of Favipiravir 200 mg Fil...</td>\n",
              "      <td>Completed</td>\n",
              "      <td>Drug: Test: Favipiravir 200 mg (LOQULAR)|Drug:...</td>\n",
              "      <td>Male</td>\n",
              "      <td>20 Years to 40 Years   (Adult)</td>\n",
              "      <td>Phase 1</td>\n",
              "      <td>30.0</td>\n",
              "      <td>June 23, 2020</td>\n",
              "      <td>August 8, 2020</td>\n",
              "      <td>Turkey</td>\n",
              "      <td>https://ClinicalTrials.gov/show/NCT04407000</td>\n",
              "    </tr>\n",
              "    <tr>\n",
              "      <th>2047</th>\n",
              "      <td>2047</td>\n",
              "      <td>Azithromycin-Prevention in Labor Use Study (A-...</td>\n",
              "      <td>Recruiting</td>\n",
              "      <td>Drug: Azithromycin|Drug: Placebo</td>\n",
              "      <td>Female</td>\n",
              "      <td>18 Years to 45 Years   (Adult)</td>\n",
              "      <td>Phase 3</td>\n",
              "      <td>34000.0</td>\n",
              "      <td>September 1, 2020</td>\n",
              "      <td>September 1, 2023</td>\n",
              "      <td>Bangladesh</td>\n",
              "      <td>https://ClinicalTrials.gov/show/NCT03871491</td>\n",
              "    </tr>\n",
              "    <tr>\n",
              "      <th>2048</th>\n",
              "      <td>2048</td>\n",
              "      <td>Bioequivalence Study of Lopinavir/Ritonavir 20...</td>\n",
              "      <td>Active, not recruiting</td>\n",
              "      <td>Drug: Lopinavir 200Mg/Ritonavir 50Mg FT Test|D...</td>\n",
              "      <td>Male</td>\n",
              "      <td>20 Years to 40 Years   (Adult)</td>\n",
              "      <td>Phase 1</td>\n",
              "      <td>30.0</td>\n",
              "      <td>April 30, 2020</td>\n",
              "      <td>June 20, 2020</td>\n",
              "      <td>Turkey</td>\n",
              "      <td>https://ClinicalTrials.gov/show/NCT04386876</td>\n",
              "    </tr>\n",
              "    <tr>\n",
              "      <th>2049</th>\n",
              "      <td>2049</td>\n",
              "      <td>A Pilot Clinical Study on Inhalation of Mesenc...</td>\n",
              "      <td>Completed</td>\n",
              "      <td>Biological: MSCs-derived exosomes</td>\n",
              "      <td>All</td>\n",
              "      <td>18 Years to 75 Years   (Adult, Older Adult)</td>\n",
              "      <td>Phase 1</td>\n",
              "      <td>24.0</td>\n",
              "      <td>February 15, 2020</td>\n",
              "      <td>July 31, 2020</td>\n",
              "      <td>China</td>\n",
              "      <td>https://ClinicalTrials.gov/show/NCT04276987</td>\n",
              "    </tr>\n",
              "    <tr>\n",
              "      <th>2050</th>\n",
              "      <td>2050</td>\n",
              "      <td>Study of Dose Confirmation and Safety of Criza...</td>\n",
              "      <td>Recruiting</td>\n",
              "      <td>Drug: Crizanlizumab</td>\n",
              "      <td>All</td>\n",
              "      <td>6 Months to 17 Years   (Child)</td>\n",
              "      <td>Phase 2</td>\n",
              "      <td>100.0</td>\n",
              "      <td>October 1, 2018</td>\n",
              "      <td>November 20, 2024</td>\n",
              "      <td>Belgium</td>\n",
              "      <td>https://ClinicalTrials.gov/show/NCT03474965</td>\n",
              "    </tr>\n",
              "  </tbody>\n",
              "</table>\n",
              "<p>2051 rows × 12 columns</p>\n",
              "</div>"
            ],
            "text/plain": [
              "      Unnamed: 0  ...                                          URL\n",
              "0              0  ...  https://ClinicalTrials.gov/show/NCT04372602\n",
              "1              1  ...  https://ClinicalTrials.gov/show/NCT04482621\n",
              "2              2  ...  https://ClinicalTrials.gov/show/NCT04425538\n",
              "3              3  ...  https://ClinicalTrials.gov/show/NCT04547257\n",
              "4              4  ...  https://ClinicalTrials.gov/show/NCT04452435\n",
              "...          ...  ...                                          ...\n",
              "2046        2046  ...  https://ClinicalTrials.gov/show/NCT04407000\n",
              "2047        2047  ...  https://ClinicalTrials.gov/show/NCT03871491\n",
              "2048        2048  ...  https://ClinicalTrials.gov/show/NCT04386876\n",
              "2049        2049  ...  https://ClinicalTrials.gov/show/NCT04276987\n",
              "2050        2050  ...  https://ClinicalTrials.gov/show/NCT03474965\n",
              "\n",
              "[2051 rows x 12 columns]"
            ]
          },
          "metadata": {
            "tags": []
          },
          "execution_count": 7
        }
      ]
    },
    {
      "cell_type": "code",
      "metadata": {
        "id": "Rv7--pu0LncS"
      },
      "source": [
        "data.to_csv('COVID_19_CCT.csv')"
      ],
      "execution_count": 8,
      "outputs": []
    }
  ]
}