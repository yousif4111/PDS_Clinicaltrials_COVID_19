{
 "cells": [
  {
   "cell_type": "markdown",
   "metadata": {},
   "source": [
    "## Preprocessing of Age Attributes of COVID-19 Clinical Trials Data"
   ]
  },
  {
   "cell_type": "markdown",
   "metadata": {},
   "source": [
    "Questions to ask regarding the age attribute:\n",
    "1. What is the distribution of age groups?\n",
    "2. Among the top countries with the most clincal trials, what is the age group distribution?"
   ]
  },
  {
   "cell_type": "code",
   "execution_count": 1,
   "metadata": {},
   "outputs": [
    {
     "name": "stderr",
     "output_type": "stream",
     "text": [
      "Warning message:\n",
      "\"package 'dplyr' was built under R version 3.6.3\"\n",
      "Attaching package: 'dplyr'\n",
      "\n",
      "The following objects are masked from 'package:stats':\n",
      "\n",
      "    filter, lag\n",
      "\n",
      "The following objects are masked from 'package:base':\n",
      "\n",
      "    intersect, setdiff, setequal, union\n",
      "\n",
      "Warning message:\n",
      "\"package 'tidyverse' was built under R version 3.6.3\"-- Attaching packages --------------------------------------- tidyverse 1.3.0 --\n",
      "v ggplot2 3.3.3     v purrr   0.3.4\n",
      "v tibble  3.0.4     v stringr 1.4.0\n",
      "v tidyr   1.1.2     v forcats 0.5.0\n",
      "v readr   1.4.0     \n",
      "Warning message:\n",
      "\"package 'ggplot2' was built under R version 3.6.3\"Warning message:\n",
      "\"package 'tibble' was built under R version 3.6.3\"Warning message:\n",
      "\"package 'tidyr' was built under R version 3.6.3\"Warning message:\n",
      "\"package 'readr' was built under R version 3.6.3\"Warning message:\n",
      "\"package 'purrr' was built under R version 3.6.3\"Warning message:\n",
      "\"package 'stringr' was built under R version 3.6.3\"Warning message:\n",
      "\"package 'forcats' was built under R version 3.6.3\"-- Conflicts ------------------------------------------ tidyverse_conflicts() --\n",
      "x dplyr::filter() masks stats::filter()\n",
      "x dplyr::lag()    masks stats::lag()\n",
      "Warning message:\n",
      "\"package 'viridis' was built under R version 3.6.3\"Loading required package: viridisLite\n",
      "Warning message:\n",
      "\"package 'viridisLite' was built under R version 3.6.3\""
     ]
    }
   ],
   "source": [
    "# load library\n",
    "library(dplyr)\n",
    "library(tidyverse)\n",
    "library(viridis)\n",
    "library(ggplot2)"
   ]
  },
  {
   "cell_type": "code",
   "execution_count": 2,
   "metadata": {},
   "outputs": [
    {
     "data": {
      "text/html": [
       "<table>\n",
       "<thead><tr><th scope=col>X</th><th scope=col>Title</th><th scope=col>Status</th><th scope=col>Interventions</th><th scope=col>Gender</th><th scope=col>Age</th><th scope=col>Phases</th><th scope=col>Enrollment</th><th scope=col>Start.Date</th><th scope=col>Completion.Date</th><th scope=col>Last.Update.Posted</th><th scope=col>Locations</th><th scope=col>URL</th><th scope=col>MapCountry</th><th scope=col>Drugonly</th></tr></thead>\n",
       "<tbody>\n",
       "\t<tr><td>1                                                                                                                </td><td>Duvelisib to Combat COVID-19                                                                                     </td><td>Recruiting                                                                                                       </td><td>Drug: Duvelisib|Procedure: Peripheral blood draw|Drug: Placebo                                                   </td><td>All                                                                                                              </td><td>18 Years and older Â  (Adult, Older Adult)                                                                       </td><td>Phase 2                                                                                                          </td><td> 28                                                                                                              </td><td>October 12, 2020                                                                                                 </td><td>April 30, 2022                                                                                                   </td><td>November 9, 2020                                                                                                 </td><td>Washington University School of Medicine, Saint Louis, Missouri, United States                                   </td><td>https://ClinicalTrials.gov/show/NCT04372602                                                                      </td><td>United States                                                                                                    </td><td>Duvelisib|Placebo                                                                                                </td></tr>\n",
       "\t<tr><td>2                                                                                                                </td><td>Observational Cohort of COVID-19 Patients at Raymond-Poincare                                                    </td><td>Recruiting                                                                                                       </td><td>                                                                                                                 </td><td>All                                                                                                              </td><td>18 Years and older Â  (Adult, Older Adult)                                                                       </td><td>                                                                                                                 </td><td>500                                                                                                              </td><td>May 7, 2020                                                                                                      </td><td>June 2020                                                                                                        </td><td>May 14, 2020                                                                                                     </td><td>Department of Infectiology, Raymond PoincarÃ© Hospital, APHP, Garches, France                                    </td><td>https://ClinicalTrials.gov/show/NCT04364698                                                                      </td><td>France                                                                                                           </td><td>                                                                                                                 </td></tr>\n",
       "\t<tr><td>3                                                                                                                </td><td>Decitabine for Coronavirus (COVID-19) Pneumonia- Acute Respiratory Distress Syndrome (ARDS) Treatment: DART Trial</td><td>Recruiting                                                                                                       </td><td>Drug: Decitabine|Other: Placebo Saline                                                                           </td><td>All                                                                                                              </td><td>18 Years and older Â  (Adult, Older Adult)                                                                       </td><td>Phase 2                                                                                                          </td><td> 40                                                                                                              </td><td>September 14, 2020                                                                                               </td><td>July 2021                                                                                                        </td><td>September 25, 2020                                                                                               </td><td>Johns Hopkins University, Baltimore, Maryland, United States                                                     </td><td>https://ClinicalTrials.gov/show/NCT04482621                                                                      </td><td>United States                                                                                                    </td><td>Decitabine                                                                                                       </td></tr>\n",
       "\t<tr><td>4                                                                                                                </td><td>COVID-19 Surveillance Based on Smart Wearable Device                                                             </td><td>Not yet recruiting                                                                                               </td><td>                                                                                                                 </td><td>All                                                                                                              </td><td>18 Years to 75 Years Â  (Adult, Older Adult)                                                                     </td><td>                                                                                                                 </td><td>200                                                                                                              </td><td>July 1, 2020                                                                                                     </td><td>March 10, 2021                                                                                                   </td><td>July 7, 2020                                                                                                     </td><td>Peking University First Hospital, Beijing, Beijing, China                                                        </td><td>https://ClinicalTrials.gov/show/NCT04459637                                                                      </td><td>China                                                                                                            </td><td>                                                                                                                 </td></tr>\n",
       "\t<tr><td>5                                                                                                                </td><td>A Phase 2 Trial of Infliximab in Coronavirus Disease 2019 (COVID-19).                                            </td><td>Recruiting                                                                                                       </td><td>Drug: Infliximab                                                                                                 </td><td>All                                                                                                              </td><td>18 Years and older Â  (Adult, Older Adult)                                                                       </td><td>Phase 2                                                                                                          </td><td> 17                                                                                                              </td><td>June 1, 2020                                                                                                     </td><td>December 2020                                                                                                    </td><td>June 11, 2020                                                                                                    </td><td>Tufts Medical Center, Boston, Massachusetts, United States                                                       </td><td>https://ClinicalTrials.gov/show/NCT04425538                                                                      </td><td>United States                                                                                                    </td><td>Infliximab                                                                                                       </td></tr>\n",
       "\t<tr><td>6                                                                                                                                                            </td><td><span style=white-space:pre-wrap>Safety &amp; Performance Evaluation of Seraph 100 in Treatment of Pts With COVID-19                                  </span></td><td>Not yet recruiting                                                                                                                                           </td><td><span style=white-space:pre-wrap>Device: Seraph 100                                            </span>                                                       </td><td>All                                                                                                                                                          </td><td>18 Years to 90 Years Â  (Adult, Older Adult)                                                                                                                 </td><td>Not Applicable                                                                                                                                               </td><td> 42                                                                                                                                                          </td><td>December 15, 2020                                                                                                                                            </td><td>April 15, 2021                                                                                                                                               </td><td>November 27, 2020                                                                                                                                            </td><td><span style=white-space:pre-wrap>Carla Kikken-Jussen, Vaals, Limburg, Netherlands                              </span>                                       </td><td>https://ClinicalTrials.gov/show/NCT04547257                                                                                                                  </td><td><span style=white-space:pre-wrap>Netherlands  </span>                                                                                                        </td><td><span style=white-space:pre-wrap>                 </span>                                                                                                    </td></tr>\n",
       "</tbody>\n",
       "</table>\n"
      ],
      "text/latex": [
       "\\begin{tabular}{r|lllllllllllllll}\n",
       " X & Title & Status & Interventions & Gender & Age & Phases & Enrollment & Start.Date & Completion.Date & Last.Update.Posted & Locations & URL & MapCountry & Drugonly\\\\\n",
       "\\hline\n",
       "\t 1                                                                                                                 & Duvelisib to Combat COVID-19                                                                                      & Recruiting                                                                                                        & Drug: Duvelisib\\textbar{}Procedure: Peripheral blood draw\\textbar{}Drug: Placebo                                & All                                                                                                               & 18 Years and older Â  (Adult, Older Adult)                                                                        & Phase 2                                                                                                           &  28                                                                                                               & October 12, 2020                                                                                                  & April 30, 2022                                                                                                    & November 9, 2020                                                                                                  & Washington University School of Medicine, Saint Louis, Missouri, United States                                    & https://ClinicalTrials.gov/show/NCT04372602                                                                       & United States                                                                                                     & Duvelisib\\textbar{}Placebo                                                                                      \\\\\n",
       "\t 2                                                                                                                 & Observational Cohort of COVID-19 Patients at Raymond-Poincare                                                     & Recruiting                                                                                                        &                                                                                                                   & All                                                                                                               & 18 Years and older Â  (Adult, Older Adult)                                                                        &                                                                                                                   & 500                                                                                                               & May 7, 2020                                                                                                       & June 2020                                                                                                         & May 14, 2020                                                                                                      & Department of Infectiology, Raymond PoincarÃ© Hospital, APHP, Garches, France                                     & https://ClinicalTrials.gov/show/NCT04364698                                                                       & France                                                                                                            &                                                                                                                  \\\\\n",
       "\t 3                                                                                                                 & Decitabine for Coronavirus (COVID-19) Pneumonia- Acute Respiratory Distress Syndrome (ARDS) Treatment: DART Trial & Recruiting                                                                                                        & Drug: Decitabine\\textbar{}Other: Placebo Saline                                                                  & All                                                                                                               & 18 Years and older Â  (Adult, Older Adult)                                                                        & Phase 2                                                                                                           &  40                                                                                                               & September 14, 2020                                                                                                & July 2021                                                                                                         & September 25, 2020                                                                                                & Johns Hopkins University, Baltimore, Maryland, United States                                                      & https://ClinicalTrials.gov/show/NCT04482621                                                                       & United States                                                                                                     & Decitabine                                                                                                       \\\\\n",
       "\t 4                                                                                                                 & COVID-19 Surveillance Based on Smart Wearable Device                                                              & Not yet recruiting                                                                                                &                                                                                                                   & All                                                                                                               & 18 Years to 75 Years Â  (Adult, Older Adult)                                                                      &                                                                                                                   & 200                                                                                                               & July 1, 2020                                                                                                      & March 10, 2021                                                                                                    & July 7, 2020                                                                                                      & Peking University First Hospital, Beijing, Beijing, China                                                         & https://ClinicalTrials.gov/show/NCT04459637                                                                       & China                                                                                                             &                                                                                                                  \\\\\n",
       "\t 5                                                                                                                 & A Phase 2 Trial of Infliximab in Coronavirus Disease 2019 (COVID-19).                                             & Recruiting                                                                                                        & Drug: Infliximab                                                                                                  & All                                                                                                               & 18 Years and older Â  (Adult, Older Adult)                                                                        & Phase 2                                                                                                           &  17                                                                                                               & June 1, 2020                                                                                                      & December 2020                                                                                                     & June 11, 2020                                                                                                     & Tufts Medical Center, Boston, Massachusetts, United States                                                        & https://ClinicalTrials.gov/show/NCT04425538                                                                       & United States                                                                                                     & Infliximab                                                                                                       \\\\\n",
       "\t 6                                                                                                                   & Safety \\& Performance Evaluation of Seraph 100 in Treatment of Pts With COVID-19                                   & Not yet recruiting                                                                                                  & Device: Seraph 100                                                                                                  & All                                                                                                                 & 18 Years to 90 Years Â  (Adult, Older Adult)                                                                        & Not Applicable                                                                                                      &  42                                                                                                                 & December 15, 2020                                                                                                   & April 15, 2021                                                                                                      & November 27, 2020                                                                                                   & Carla Kikken-Jussen, Vaals, Limburg, Netherlands                                                                    & https://ClinicalTrials.gov/show/NCT04547257                                                                         & Netherlands                                                                                                         &                                                                                                                    \\\\\n",
       "\\end{tabular}\n"
      ],
      "text/markdown": [
       "\n",
       "| X | Title | Status | Interventions | Gender | Age | Phases | Enrollment | Start.Date | Completion.Date | Last.Update.Posted | Locations | URL | MapCountry | Drugonly |\n",
       "|---|---|---|---|---|---|---|---|---|---|---|---|---|---|---|\n",
       "| 1                                                                                                                 | Duvelisib to Combat COVID-19                                                                                      | Recruiting                                                                                                        | Drug: Duvelisib|Procedure: Peripheral blood draw|Drug: Placebo                                                    | All                                                                                                               | 18 Years and older Â  (Adult, Older Adult)                                                                        | Phase 2                                                                                                           |  28                                                                                                               | October 12, 2020                                                                                                  | April 30, 2022                                                                                                    | November 9, 2020                                                                                                  | Washington University School of Medicine, Saint Louis, Missouri, United States                                    | https://ClinicalTrials.gov/show/NCT04372602                                                                       | United States                                                                                                     | Duvelisib|Placebo                                                                                                 |\n",
       "| 2                                                                                                                 | Observational Cohort of COVID-19 Patients at Raymond-Poincare                                                     | Recruiting                                                                                                        |                                                                                                                   | All                                                                                                               | 18 Years and older Â  (Adult, Older Adult)                                                                        |                                                                                                                   | 500                                                                                                               | May 7, 2020                                                                                                       | June 2020                                                                                                         | May 14, 2020                                                                                                      | Department of Infectiology, Raymond PoincarÃ© Hospital, APHP, Garches, France                                     | https://ClinicalTrials.gov/show/NCT04364698                                                                       | France                                                                                                            |                                                                                                                   |\n",
       "| 3                                                                                                                 | Decitabine for Coronavirus (COVID-19) Pneumonia- Acute Respiratory Distress Syndrome (ARDS) Treatment: DART Trial | Recruiting                                                                                                        | Drug: Decitabine|Other: Placebo Saline                                                                            | All                                                                                                               | 18 Years and older Â  (Adult, Older Adult)                                                                        | Phase 2                                                                                                           |  40                                                                                                               | September 14, 2020                                                                                                | July 2021                                                                                                         | September 25, 2020                                                                                                | Johns Hopkins University, Baltimore, Maryland, United States                                                      | https://ClinicalTrials.gov/show/NCT04482621                                                                       | United States                                                                                                     | Decitabine                                                                                                        |\n",
       "| 4                                                                                                                 | COVID-19 Surveillance Based on Smart Wearable Device                                                              | Not yet recruiting                                                                                                |                                                                                                                   | All                                                                                                               | 18 Years to 75 Years Â  (Adult, Older Adult)                                                                      |                                                                                                                   | 200                                                                                                               | July 1, 2020                                                                                                      | March 10, 2021                                                                                                    | July 7, 2020                                                                                                      | Peking University First Hospital, Beijing, Beijing, China                                                         | https://ClinicalTrials.gov/show/NCT04459637                                                                       | China                                                                                                             |                                                                                                                   |\n",
       "| 5                                                                                                                 | A Phase 2 Trial of Infliximab in Coronavirus Disease 2019 (COVID-19).                                             | Recruiting                                                                                                        | Drug: Infliximab                                                                                                  | All                                                                                                               | 18 Years and older Â  (Adult, Older Adult)                                                                        | Phase 2                                                                                                           |  17                                                                                                               | June 1, 2020                                                                                                      | December 2020                                                                                                     | June 11, 2020                                                                                                     | Tufts Medical Center, Boston, Massachusetts, United States                                                        | https://ClinicalTrials.gov/show/NCT04425538                                                                       | United States                                                                                                     | Infliximab                                                                                                        |\n",
       "| 6                                                                                                                 | Safety & Performance Evaluation of Seraph 100 in Treatment of Pts With COVID-19                                   | Not yet recruiting                                                                                                | Device: Seraph 100                                                                                                | All                                                                                                               | 18 Years to 90 Years Â  (Adult, Older Adult)                                                                      | Not Applicable                                                                                                    |  42                                                                                                               | December 15, 2020                                                                                                 | April 15, 2021                                                                                                    | November 27, 2020                                                                                                 | Carla Kikken-Jussen, Vaals, Limburg, Netherlands                                                                  | https://ClinicalTrials.gov/show/NCT04547257                                                                       | Netherlands                                                                                                       |                                                                                                                   |\n",
       "\n"
      ],
      "text/plain": [
       "  X\n",
       "1 1\n",
       "2 2\n",
       "3 3\n",
       "4 4\n",
       "5 5\n",
       "6 6\n",
       "  Title                                                                                                            \n",
       "1 Duvelisib to Combat COVID-19                                                                                     \n",
       "2 Observational Cohort of COVID-19 Patients at Raymond-Poincare                                                    \n",
       "3 Decitabine for Coronavirus (COVID-19) Pneumonia- Acute Respiratory Distress Syndrome (ARDS) Treatment: DART Trial\n",
       "4 COVID-19 Surveillance Based on Smart Wearable Device                                                             \n",
       "5 A Phase 2 Trial of Infliximab in Coronavirus Disease 2019 (COVID-19).                                            \n",
       "6 Safety & Performance Evaluation of Seraph 100 in Treatment of Pts With COVID-19                                  \n",
       "  Status            \n",
       "1 Recruiting        \n",
       "2 Recruiting        \n",
       "3 Recruiting        \n",
       "4 Not yet recruiting\n",
       "5 Recruiting        \n",
       "6 Not yet recruiting\n",
       "  Interventions                                                  Gender\n",
       "1 Drug: Duvelisib|Procedure: Peripheral blood draw|Drug: Placebo All   \n",
       "2                                                                All   \n",
       "3 Drug: Decitabine|Other: Placebo Saline                         All   \n",
       "4                                                                All   \n",
       "5 Drug: Infliximab                                               All   \n",
       "6 Device: Seraph 100                                             All   \n",
       "  Age                                          Phases         Enrollment\n",
       "1 18 Years and older Â  (Adult, Older Adult)   Phase 2         28       \n",
       "2 18 Years and older Â  (Adult, Older Adult)                  500       \n",
       "3 18 Years and older Â  (Adult, Older Adult)   Phase 2         40       \n",
       "4 18 Years to 75 Years Â  (Adult, Older Adult)                200       \n",
       "5 18 Years and older Â  (Adult, Older Adult)   Phase 2         17       \n",
       "6 18 Years to 90 Years Â  (Adult, Older Adult) Not Applicable  42       \n",
       "  Start.Date         Completion.Date Last.Update.Posted\n",
       "1 October 12, 2020   April 30, 2022  November 9, 2020  \n",
       "2 May 7, 2020        June 2020       May 14, 2020      \n",
       "3 September 14, 2020 July 2021       September 25, 2020\n",
       "4 July 1, 2020       March 10, 2021  July 7, 2020      \n",
       "5 June 1, 2020       December 2020   June 11, 2020     \n",
       "6 December 15, 2020  April 15, 2021  November 27, 2020 \n",
       "  Locations                                                                     \n",
       "1 Washington University School of Medicine, Saint Louis, Missouri, United States\n",
       "2 Department of Infectiology, Raymond PoincarÃ© Hospital, APHP, Garches, France \n",
       "3 Johns Hopkins University, Baltimore, Maryland, United States                  \n",
       "4 Peking University First Hospital, Beijing, Beijing, China                     \n",
       "5 Tufts Medical Center, Boston, Massachusetts, United States                    \n",
       "6 Carla Kikken-Jussen, Vaals, Limburg, Netherlands                              \n",
       "  URL                                         MapCountry    Drugonly         \n",
       "1 https://ClinicalTrials.gov/show/NCT04372602 United States Duvelisib|Placebo\n",
       "2 https://ClinicalTrials.gov/show/NCT04364698 France                         \n",
       "3 https://ClinicalTrials.gov/show/NCT04482621 United States Decitabine       \n",
       "4 https://ClinicalTrials.gov/show/NCT04459637 China                          \n",
       "5 https://ClinicalTrials.gov/show/NCT04425538 United States Infliximab       \n",
       "6 https://ClinicalTrials.gov/show/NCT04547257 Netherlands                    "
      ]
     },
     "metadata": {},
     "output_type": "display_data"
    }
   ],
   "source": [
    "# Read the cleaned data\n",
    "data <- read.csv(\"MyCleanData.csv\")\n",
    "head(data)"
   ]
  },
  {
   "cell_type": "code",
   "execution_count": 3,
   "metadata": {},
   "outputs": [],
   "source": [
    "# Add empty columns of each age group\n",
    "data['AgeChild'] <- NA\n",
    "data['AgeAdult'] <- NA\n",
    "data['AgeOlderAdult'] <- NA"
   ]
  },
  {
   "cell_type": "code",
   "execution_count": 4,
   "metadata": {},
   "outputs": [],
   "source": [
    "# Fill the newly created columns with Yes's and No's according to the Age column\n",
    "data$AgeChild <- ifelse(grepl(\"Child\", data$Age),\"Yes\", \"No\")\n",
    "data$AgeAdult <- ifelse(grepl(\"Adult\", data$Age),\"Yes\", \"No\")\n",
    "data$AgeOlderAdult <- ifelse(grepl(\"Older Adult\", data$Age),\"Yes\", \"No\")"
   ]
  },
  {
   "cell_type": "code",
   "execution_count": 5,
   "metadata": {},
   "outputs": [
    {
     "data": {
      "text/html": [
       "0"
      ],
      "text/latex": [
       "0"
      ],
      "text/markdown": [
       "0"
      ],
      "text/plain": [
       "[1] 0"
      ]
     },
     "metadata": {},
     "output_type": "display_data"
    },
    {
     "data": {
      "text/html": [
       "0"
      ],
      "text/latex": [
       "0"
      ],
      "text/markdown": [
       "0"
      ],
      "text/plain": [
       "[1] 0"
      ]
     },
     "metadata": {},
     "output_type": "display_data"
    },
    {
     "data": {
      "text/html": [
       "0"
      ],
      "text/latex": [
       "0"
      ],
      "text/markdown": [
       "0"
      ],
      "text/plain": [
       "[1] 0"
      ]
     },
     "metadata": {},
     "output_type": "display_data"
    }
   ],
   "source": [
    "# Check for missing values\n",
    "sum(is.na(data$AgeChild))\n",
    "sum(is.na(data$AgeAult))\n",
    "sum(is.na(data$AgeOlderAdult))"
   ]
  },
  {
   "cell_type": "code",
   "execution_count": 6,
   "metadata": {},
   "outputs": [],
   "source": [
    "# Create a new data frame consisting of related variables\n",
    "age_data <- select(data, MapCountry, AgeChild, AgeAdult, AgeOlderAdult)"
   ]
  },
  {
   "cell_type": "code",
   "execution_count": 7,
   "metadata": {},
   "outputs": [
    {
     "data": {
      "text/html": [
       "<table>\n",
       "<thead><tr><th scope=col>MapCountry</th><th scope=col>AgeChild</th><th scope=col>AgeAdult</th><th scope=col>AgeOlderAdult</th></tr></thead>\n",
       "<tbody>\n",
       "\t<tr><td>United States            </td><td>No                       </td><td>Yes                      </td><td>Yes                      </td></tr>\n",
       "\t<tr><td>France                   </td><td>No                       </td><td>Yes                      </td><td>Yes                      </td></tr>\n",
       "\t<tr><td>United States            </td><td>No                       </td><td>Yes                      </td><td>Yes                      </td></tr>\n",
       "\t<tr><td>China                    </td><td>No                       </td><td>Yes                      </td><td>Yes                      </td></tr>\n",
       "\t<tr><td>United States            </td><td>No                       </td><td>Yes                      </td><td>Yes                      </td></tr>\n",
       "\t<tr><td>Netherlands              </td><td>No                       </td><td>Yes                      </td><td>Yes                      </td></tr>\n",
       "\t<tr><td>Undefined                </td><td>No                       </td><td>Yes                      </td><td>Yes                      </td></tr>\n",
       "\t<tr><td>India                    </td><td>No                       </td><td>Yes                      </td><td>Yes                      </td></tr>\n",
       "\t<tr><td>Iran, Islamic Republic of</td><td>Yes                      </td><td>Yes                      </td><td>Yes                      </td></tr>\n",
       "\t<tr><td>Turkey                   </td><td>No                       </td><td>Yes                      </td><td>Yes                      </td></tr>\n",
       "</tbody>\n",
       "</table>\n"
      ],
      "text/latex": [
       "\\begin{tabular}{r|llll}\n",
       " MapCountry & AgeChild & AgeAdult & AgeOlderAdult\\\\\n",
       "\\hline\n",
       "\t United States             & No                        & Yes                       & Yes                      \\\\\n",
       "\t France                    & No                        & Yes                       & Yes                      \\\\\n",
       "\t United States             & No                        & Yes                       & Yes                      \\\\\n",
       "\t China                     & No                        & Yes                       & Yes                      \\\\\n",
       "\t United States             & No                        & Yes                       & Yes                      \\\\\n",
       "\t Netherlands               & No                        & Yes                       & Yes                      \\\\\n",
       "\t Undefined                 & No                        & Yes                       & Yes                      \\\\\n",
       "\t India                     & No                        & Yes                       & Yes                      \\\\\n",
       "\t Iran, Islamic Republic of & Yes                       & Yes                       & Yes                      \\\\\n",
       "\t Turkey                    & No                        & Yes                       & Yes                      \\\\\n",
       "\\end{tabular}\n"
      ],
      "text/markdown": [
       "\n",
       "| MapCountry | AgeChild | AgeAdult | AgeOlderAdult |\n",
       "|---|---|---|---|\n",
       "| United States             | No                        | Yes                       | Yes                       |\n",
       "| France                    | No                        | Yes                       | Yes                       |\n",
       "| United States             | No                        | Yes                       | Yes                       |\n",
       "| China                     | No                        | Yes                       | Yes                       |\n",
       "| United States             | No                        | Yes                       | Yes                       |\n",
       "| Netherlands               | No                        | Yes                       | Yes                       |\n",
       "| Undefined                 | No                        | Yes                       | Yes                       |\n",
       "| India                     | No                        | Yes                       | Yes                       |\n",
       "| Iran, Islamic Republic of | Yes                       | Yes                       | Yes                       |\n",
       "| Turkey                    | No                        | Yes                       | Yes                       |\n",
       "\n"
      ],
      "text/plain": [
       "   MapCountry                AgeChild AgeAdult AgeOlderAdult\n",
       "1  United States             No       Yes      Yes          \n",
       "2  France                    No       Yes      Yes          \n",
       "3  United States             No       Yes      Yes          \n",
       "4  China                     No       Yes      Yes          \n",
       "5  United States             No       Yes      Yes          \n",
       "6  Netherlands               No       Yes      Yes          \n",
       "7  Undefined                 No       Yes      Yes          \n",
       "8  India                     No       Yes      Yes          \n",
       "9  Iran, Islamic Republic of Yes      Yes      Yes          \n",
       "10 Turkey                    No       Yes      Yes          "
      ]
     },
     "metadata": {},
     "output_type": "display_data"
    }
   ],
   "source": [
    "# Check the data frame\n",
    "head(age_data,10)"
   ]
  },
  {
   "cell_type": "code",
   "execution_count": 8,
   "metadata": {},
   "outputs": [],
   "source": [
    "# Remove Undefined countries from the data\n",
    "age_data <- subset(age_data, MapCountry != \"Undefined\")"
   ]
  },
  {
   "cell_type": "code",
   "execution_count": 9,
   "metadata": {},
   "outputs": [
    {
     "data": {
      "text/plain": [
       "\n",
       "  No  Yes \n",
       "3007  646 "
      ]
     },
     "metadata": {},
     "output_type": "display_data"
    },
    {
     "data": {
      "text/plain": [
       "\n",
       "  No  Yes \n",
       "  44 3609 "
      ]
     },
     "metadata": {},
     "output_type": "display_data"
    },
    {
     "data": {
      "text/plain": [
       "\n",
       "  No  Yes \n",
       " 289 3364 "
      ]
     },
     "metadata": {},
     "output_type": "display_data"
    }
   ],
   "source": [
    "# Count the occurences of Yes and No in each Age Group column\n",
    "table(age_data$AgeChild)\n",
    "table(age_data$AgeAdult)\n",
    "table(age_data$AgeOlderAdult)"
   ]
  },
  {
   "cell_type": "code",
   "execution_count": 10,
   "metadata": {},
   "outputs": [
    {
     "data": {
      "text/plain": [
       "\n",
       " United States         France          Italy United Kingdom          China \n",
       "           736            540            172            170            161 \n",
       "         Egypt          Spain         Canada         Turkey         Brazil \n",
       "           145            137            136            130            115 "
      ]
     },
     "metadata": {},
     "output_type": "display_data"
    }
   ],
   "source": [
    "# Find the top 10 countries with the most recorded trials\n",
    "sort(table(age_data$MapCountry), decreasing = TRUE)[1:10]"
   ]
  },
  {
   "cell_type": "code",
   "execution_count": 11,
   "metadata": {},
   "outputs": [],
   "source": [
    "# Count Yes's in each age group in the United States\n",
    "age_dataUSA <- filter(age_data, MapCountry == \"United States\")\n",
    "ageUSA_Child <- sum(age_dataUSA$AgeChild == \"Yes\")\n",
    "ageUSA_Adult <- sum(age_dataUSA$AgeAdult == \"Yes\")\n",
    "ageUSA_OlderAdult <- sum(age_dataUSA$AgeOlderAdult == \"Yes\")\n",
    "\n",
    "# Count Yes's in each age group in the France\n",
    "age_dataFRA <- filter(age_data, MapCountry == \"France\")\n",
    "ageFRA_Child <- sum(age_dataFRA$AgeChild == \"Yes\")\n",
    "ageFRA_Adult <- sum(age_dataFRA$AgeAdult == \"Yes\")\n",
    "ageFRA_OlderAdult <- sum(age_dataFRA$AgeOlderAdult == \"Yes\")\n",
    "\n",
    "# Count Yes's in each age group in the Italy\n",
    "age_dataITA <- filter(age_data, MapCountry == \"Italy\")\n",
    "ageITA_Child <- sum(age_dataITA$AgeChild == \"Yes\")\n",
    "ageITA_Adult <- sum(age_dataITA$AgeAdult == \"Yes\")\n",
    "ageITA_OlderAdult <- sum(age_dataITA$AgeOlderAdult == \"Yes\")\n",
    "\n",
    "# Count Yes's in each age group in the United Kingdom\n",
    "age_dataUK <- filter(age_data, MapCountry == \"United Kingdom\")\n",
    "ageUK_Child <- sum(age_dataUK$AgeChild == \"Yes\")\n",
    "ageUK_Adult <- sum(age_dataUK$AgeAdult == \"Yes\")\n",
    "ageUK_OlderAdult <- sum(age_dataUK$AgeOlderAdult == \"Yes\")\n",
    "\n",
    "# Count Yes's in each age group in the China\n",
    "age_dataCHI <- filter(age_data, MapCountry == \"China\")\n",
    "ageCHI_Child <- sum(age_dataCHI$AgeChild == \"Yes\")\n",
    "ageCHI_Adult <- sum(age_dataCHI$AgeAdult == \"Yes\")\n",
    "ageCHI_OlderAdult <- sum(age_dataCHI$AgeOlderAdult == \"Yes\")\n",
    "\n",
    "# Count Yes's in each age group in the Egypt\n",
    "age_dataEGY <- filter(age_data, MapCountry == \"Egypt\")\n",
    "ageEGY_Child <- sum(age_dataEGY$AgeChild == \"Yes\")\n",
    "ageEGY_Adult <- sum(age_dataEGY$AgeAdult == \"Yes\")\n",
    "ageEGY_OlderAdult <- sum(age_dataEGY$AgeOlderAdult == \"Yes\")\n",
    "\n",
    "# Count Yes's in each age group in the Spain\n",
    "age_dataSPA <- filter(age_data, MapCountry == \"Spain\")\n",
    "ageSPA_Child <- sum(age_dataSPA$AgeChild == \"Yes\")\n",
    "ageSPA_Adult <- sum(age_dataSPA$AgeAdult == \"Yes\")\n",
    "ageSPA_OlderAdult <- sum(age_dataSPA$AgeOlderAdult == \"Yes\")\n",
    "\n",
    "# Count Yes's in each age group in the Canada\n",
    "age_dataCAN <- filter(age_data, MapCountry == \"Canada\")\n",
    "ageCAN_Child <- sum(age_dataCAN$AgeChild == \"Yes\")\n",
    "ageCAN_Adult <- sum(age_dataCAN$AgeAdult == \"Yes\")\n",
    "ageCAN_OlderAdult <- sum(age_dataCAN$AgeOlderAdult == \"Yes\")\n",
    "\n",
    "# Count Yes's in each age group in the Turkey\n",
    "age_dataTUR <- filter(age_data, MapCountry == \"Turkey\")\n",
    "ageTUR_Child <- sum(age_dataTUR$AgeChild == \"Yes\")\n",
    "ageTUR_Adult <- sum(age_dataTUR$AgeAdult == \"Yes\")\n",
    "ageTUR_OlderAdult <- sum(age_dataTUR$AgeOlderAdult == \"Yes\")\n",
    "\n",
    "# Count Yes's in each age group in the Brazil\n",
    "age_dataBRA <- filter(age_data, MapCountry == \"Brazil\")\n",
    "ageBRA_Child <- sum(age_dataBRA$AgeChild == \"Yes\")\n",
    "ageBRA_Adult <- sum(age_dataBRA$AgeAdult == \"Yes\")\n",
    "ageBRA_OlderAdult <- sum(age_dataBRA$AgeOlderAdult == \"Yes\")"
   ]
  },
  {
   "cell_type": "code",
   "execution_count": 12,
   "metadata": {},
   "outputs": [],
   "source": [
    "# Calculate the number of recorded trials done by the top 10 countries\n",
    "n1 <- nrow(age_dataUSA)\n",
    "n2 <- nrow(age_dataFRA)\n",
    "n3 <- nrow(age_dataITA)\n",
    "n4 <- nrow(age_dataUK)\n",
    "n5 <- nrow(age_dataCHI)\n",
    "n6 <- nrow(age_dataEGY)\n",
    "n7 <- nrow(age_dataSPA)\n",
    "n8 <- nrow(age_dataCAN)\n",
    "n9 <- nrow(age_dataTUR)\n",
    "n10 <- nrow(age_dataBRA)"
   ]
  },
  {
   "cell_type": "markdown",
   "metadata": {},
   "source": [
    "### Visualization"
   ]
  },
  {
   "cell_type": "markdown",
   "metadata": {},
   "source": [
    "There are 646 child trials, 3609 adult trials, and 3364 older adult trials.\n",
    "\n",
    "Now, let's visualize the distribution of age group among all countries that did clinical trials."
   ]
  },
  {
   "cell_type": "code",
   "execution_count": 13,
   "metadata": {},
   "outputs": [
    {
     "data": {
      "image/png": "[encoded data removed]",
      "text/plain": [
       "plot without title"
      ]
     },
     "metadata": {},
     "output_type": "display_data"
    }
   ],
   "source": [
    "# Create data frame for the visualization\n",
    "data <- data.frame(\n",
    "  category=c(\"Child\", \"Adult\", \"Older Adult\"),\n",
    "  count=c(646, 3609, 3364)\n",
    ")\n",
    " \n",
    "# Compute percentages\n",
    "data$fraction <- data$count / sum(data$count)\n",
    "\n",
    "# Compute the cumulative percentages (top of each rectangle)\n",
    "data$ymax <- cumsum(data$fraction)\n",
    "\n",
    "# Compute the bottom of each rectangle\n",
    "data$ymin <- c(0, head(data$ymax, n=-1))\n",
    "\n",
    "# Compute label position\n",
    "data$labelPosition <- (data$ymax + data$ymin) / 2\n",
    "\n",
    "# Compute a good label\n",
    "data$label <- paste0(data$category, \"\\n value: \", data$count)\n",
    "\n",
    "# Make the plot\n",
    "ggplot(data, aes(ymax=ymax, ymin=ymin, xmax=4, xmin=3.5, fill=category)) +\n",
    "  geom_rect() +\n",
    "  geom_label( x=3.75, aes(y=labelPosition, label=label), size=5) +\n",
    "  scale_fill_brewer(palette=4) +\n",
    "  coord_polar(theta=\"y\") +\n",
    "  xlim(c(2, 4)) +\n",
    "  theme_void() +\n",
    "  theme(legend.position = \"none\")"
   ]
  },
  {
   "cell_type": "markdown",
   "metadata": {},
   "source": [
    "Now, let's visualize the distribution of trials in the top 10 countries with the most clinical trials."
   ]
  },
  {
   "cell_type": "code",
   "execution_count": 17,
   "metadata": {},
   "outputs": [
    {
     "data": {
      "image/png": "[encoded data removed]",
      "text/plain": [
       "plot without title"
      ]
     },
     "metadata": {},
     "output_type": "display_data"
    }
   ],
   "source": [
    "# Create dataset\n",
    "id <- seq(1:10)\n",
    "individual <- c(\"United States\",\"France\",\"Italy\",\"United Kingdom\",\n",
    "                   \"China\",\"Egypt\",\"Spain\",\"Canada\",\"Turkey\",\"Brazil\")\n",
    "value <- c(736,540,172,170,161,145,137,136,130,115) # Values taken from previous calculation\n",
    "data <- data.frame(id,individual,value)\n",
    "\n",
    "# Get the name and the y position of each label\n",
    "label_data <- data\n",
    " \n",
    "# calculate the ANGLE of the labels\n",
    "number_of_bar <- nrow(label_data)\n",
    "angle <-  90 - 360 * (label_data$id-0.5) /number_of_bar\n",
    "# Substracted 0.5 because the letter must have the angle of the center of the bars. \n",
    "# Not extreme right(1) or extreme left (0).\n",
    " \n",
    "# calculate the alignment of labels: right or left\n",
    "# If I am on the left part of the plot, my labels have currently an angle < -90\n",
    "label_data$hjust<-ifelse( angle < -90, 1, 0)\n",
    " \n",
    "# flip angle BY to make them readable\n",
    "label_data$angle<-ifelse(angle < -90, angle+180, angle)\n",
    " \n",
    "# Start the plot\n",
    "p1 <- ggplot(data, aes(x=as.factor(id), y=value)) + \n",
    "# Note that id is a factor. If x is numeric, there is some space between the first bar\n",
    "  \n",
    "# This add the bars with a blue color\n",
    "geom_bar(stat=\"identity\", fill=alpha(\"skyblue\", 0.7)) +\n",
    "  \n",
    "# Limits of the plot = very important. The negative value controls the size of the inner circle, \n",
    "# the positive one is useful to add size over each bar.\n",
    "ylim(-150,900) +\n",
    "  \n",
    "# Custom the theme: no axis title and no cartesian grid\n",
    "theme_minimal() +\n",
    "theme(\n",
    "    axis.text = element_blank(),\n",
    "    axis.title = element_blank(),\n",
    "    panel.grid = element_blank(),\n",
    "    plot.margin = unit(rep(-1,4), \"cm\") # Adjust the margin to make in sort labels are not truncated!\n",
    "  ) +\n",
    "  \n",
    "# This makes the coordinate polar instead of cartesian.\n",
    "coord_polar(start = 0) +\n",
    "  \n",
    "# Add the labels, using the label_data dataframe that we have created before\n",
    "geom_text(data=label_data, aes(x=id, y=value+10, label=individual, hjust=hjust), \n",
    "          color=\"black\", fontface=\"bold\",alpha=0.8, size=2.7, angle= label_data$angle, inherit.aes = FALSE ) \n",
    "\n",
    "show(p1)"
   ]
  },
  {
   "cell_type": "markdown",
   "metadata": {},
   "source": [
    "Now, let's visualize the distribution of age group in each top 10 countries with the most clinical trials."
   ]
  },
  {
   "cell_type": "code",
   "execution_count": 16,
   "metadata": {},
   "outputs": [
    {
     "name": "stderr",
     "output_type": "stream",
     "text": [
      "Warning message:\n",
      "\"Removed 9 rows containing missing values (position_stack).\"Warning message:\n",
      "\"Removed 9 rows containing missing values (position_stack).\"Warning message:\n",
      "\"Removed 9 rows containing missing values (geom_text).\""
     ]
    },
    {
     "data": {
      "image/png": "[encoded data removed]",
      "text/plain": [
       "plot without title"
      ]
     },
     "metadata": {},
     "output_type": "display_data"
    }
   ],
   "source": [
    "# Create dataset\n",
    "id <- seq(1:30)\n",
    "individual <- c(\"United States\",\"France\",\"Italy\",\"United Kingdom\",\n",
    "                \"China\",\"Egypt\",\"Spain\",\"Canada\",\"Turkey\",\"Brazil\",\n",
    "                \"United States\",\"France\",\"Italy\",\"United Kingdom\",\n",
    "                \"China\",\"Egypt\",\"Spain\",\"Canada\",\"Turkey\",\"Brazil\",\n",
    "                \"United States\",\"France\",\"Italy\",\"United Kingdom\",\n",
    "                \"China\",\"Egypt\",\"Spain\",\"Canada\",\"Turkey\",\"Brazil\")\n",
    "group <- c( rep('Child', 10), rep('Adult', 10), rep('Older Adult', 10))\n",
    "value <- c(86,104,28,46,39,61,32,29,21,18,\n",
    "           729,529,171,164,159,145,137,132,124,115,\n",
    "           700,508,163,149,141,118,135,123,88,110)\n",
    "data <- data.frame(id,individual,group,value)\n",
    "\n",
    "# Set a number of 'empty bar' to add at the end of each group\n",
    "empty_bar <- 3\n",
    "to_add <- data.frame( matrix(NA, empty_bar*nlevels(data$group), ncol(data)) )\n",
    "colnames(to_add) <- colnames(data)\n",
    "to_add$group <- rep(levels(data$group), each=empty_bar)\n",
    "data <- rbind(data, to_add)\n",
    "data <- data %>% arrange(group)\n",
    "data$id <- seq(1, nrow(data))\n",
    " \n",
    "# Get the name and the y position of each label\n",
    "label_data <- data\n",
    "number_of_bar <- nrow(label_data)\n",
    "angle <- 90 - 360 * (label_data$id-0.5) /number_of_bar\n",
    "# Substracted 0.5 because the letter must have the angle of the center of the bars.\n",
    "# Not extreme right(1) or extreme left (0)\n",
    "label_data$hjust <- ifelse( angle < -90, 1, 0)\n",
    "label_data$angle <- ifelse(angle < -90, angle+180, angle)\n",
    " \n",
    "# prepare a data frame for base lines\n",
    "base_data <- data %>% \n",
    "  group_by(group) %>% \n",
    "  summarize(start=min(id), end=max(id) - empty_bar) %>% \n",
    "  rowwise() %>% \n",
    "  mutate(title=mean(c(start, end)))\n",
    " \n",
    "# prepare a data frame for grid (scales)\n",
    "grid_data <- base_data\n",
    "grid_data$end <- grid_data$end[ c( nrow(grid_data), 1:nrow(grid_data)-1)] + 1\n",
    "grid_data$start <- grid_data$start - 1\n",
    "grid_data <- grid_data[-1,]\n",
    " \n",
    "# Make the plot\n",
    "p3 <- ggplot(data, aes(x=as.factor(id), y=value, fill=group)) +       \n",
    "# Note that id is a factor. If x is numeric, there is some space between the first bar\n",
    "  \n",
    "geom_bar(aes(x=as.factor(id), y=value, fill=group), stat=\"identity\", alpha=0.5) +\n",
    "  \n",
    "geom_bar(aes(x=as.factor(id), y=value, fill=group), stat=\"identity\", alpha=0.5) +\n",
    "ylim(-150,750) +\n",
    "theme_minimal() +\n",
    "theme(\n",
    "    legend.position = \"none\",\n",
    "    axis.text = element_blank(),\n",
    "    axis.title = element_blank(),\n",
    "    panel.grid = element_blank(),\n",
    "    plot.margin = unit(rep(-1,4), \"cm\") \n",
    "  ) +\n",
    "  coord_polar() + \n",
    "  geom_text(data=label_data, aes(x=id, y=value+10, label=individual, hjust=hjust), color=\"black\", \n",
    "            fontface=\"bold\",alpha=0.7, size=3.0, angle= label_data$angle, inherit.aes = FALSE ) +\n",
    "  \n",
    "# Add base line information\n",
    "geom_segment(data=base_data, aes(x = start, y = -5, xend = end, yend = -5), colour = \"black\", \n",
    "               alpha=0.8, size=0.7 , inherit.aes = FALSE )  +\n",
    "geom_text(data=base_data, aes(x = title, y = -18, label=group), hjust=c(1,1,0), colour = \"black\", \n",
    "            alpha=0.8, size=3, fontface=\"bold\", inherit.aes = FALSE)\n",
    "\n",
    "show(p3)"
   ]
  }
 ],
 "metadata": {
  "kernelspec": {
   "display_name": "R",
   "language": "R",
   "name": "ir"
  },
  "language_info": {
   "codemirror_mode": "r",
   "file_extension": ".r",
   "mimetype": "text/x-r-source",
   "name": "R",
   "pygments_lexer": "r",
   "version": "3.6.1"
  }
 },
 "nbformat": 4,
 "nbformat_minor": 4
}
