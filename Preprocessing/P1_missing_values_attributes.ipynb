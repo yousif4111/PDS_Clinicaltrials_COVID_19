{
  "nbformat": 4,
  "nbformat_minor": 0,
  "metadata": {
    "colab": {
      "name": "P1_missing_values_attributes.ipynb",
      "provenance": []
    },
    "kernelspec": {
      "name": "python3",
      "display_name": "Python 3"
    }
  },
  "cells": [
    {
      "cell_type": "markdown",
      "metadata": {
        "id": "374Hy-_a0ZGQ"
      },
      "source": [
        "# **Perprocessing:** taking care of miss values and choosing attributes\r\n",
        "\r\n"
      ]
    },
    {
      "cell_type": "code",
      "metadata": {
        "id": "AphNDSrfSTpZ"
      },
      "source": [
        "import pandas as pd"
      ],
      "execution_count": 1,
      "outputs": []
    },
    {
      "cell_type": "code",
      "metadata": {
        "id": "e1Wt3n8JU2Ro"
      },
      "source": [
        "data=pd.read_csv(\"COVID_19_CCT.csv\")"
      ],
      "execution_count": 2,
      "outputs": []
    },
    {
      "cell_type": "markdown",
      "metadata": {
        "id": "FipMRMQzXo0B"
      },
      "source": [
        "## Exploring the data"
      ]
    },
    {
      "cell_type": "code",
      "metadata": {
        "colab": {
          "base_uri": "https://localhost:8080/",
          "height": 1000
        },
        "id": "FTYMteRLX7Td",
        "outputId": "4f82f437-8ceb-4f4a-a1a4-ace5d8a6f558"
      },
      "source": [
        "data"
      ],
      "execution_count": 3,
      "outputs": [
        {
          "output_type": "execute_result",
          "data": {
            "text/html": [
              "<div>\n",
              "<style scoped>\n",
              "    .dataframe tbody tr th:only-of-type {\n",
              "        vertical-align: middle;\n",
              "    }\n",
              "\n",
              "    .dataframe tbody tr th {\n",
              "        vertical-align: top;\n",
              "    }\n",
              "\n",
              "    .dataframe thead th {\n",
              "        text-align: right;\n",
              "    }\n",
              "</style>\n",
              "<table border=\"1\" class=\"dataframe\">\n",
              "  <thead>\n",
              "    <tr style=\"text-align: right;\">\n",
              "      <th></th>\n",
              "      <th>Rank</th>\n",
              "      <th>NCT Number</th>\n",
              "      <th>Title</th>\n",
              "      <th>Acronym</th>\n",
              "      <th>Status</th>\n",
              "      <th>Study Results</th>\n",
              "      <th>Conditions</th>\n",
              "      <th>Interventions</th>\n",
              "      <th>Outcome Measures</th>\n",
              "      <th>Sponsor/Collaborators</th>\n",
              "      <th>Gender</th>\n",
              "      <th>Age</th>\n",
              "      <th>Phases</th>\n",
              "      <th>Enrollment</th>\n",
              "      <th>Funded Bys</th>\n",
              "      <th>Study Type</th>\n",
              "      <th>Study Designs</th>\n",
              "      <th>Other IDs</th>\n",
              "      <th>Start Date</th>\n",
              "      <th>Primary Completion Date</th>\n",
              "      <th>Completion Date</th>\n",
              "      <th>First Posted</th>\n",
              "      <th>Results First Posted</th>\n",
              "      <th>Last Update Posted</th>\n",
              "      <th>Locations</th>\n",
              "      <th>Study Documents</th>\n",
              "      <th>URL</th>\n",
              "    </tr>\n",
              "  </thead>\n",
              "  <tbody>\n",
              "    <tr>\n",
              "      <th>0</th>\n",
              "      <td>1</td>\n",
              "      <td>NCT04372602</td>\n",
              "      <td>Duvelisib to Combat COVID-19</td>\n",
              "      <td>NaN</td>\n",
              "      <td>Recruiting</td>\n",
              "      <td>No Results Available</td>\n",
              "      <td>COVID-19</td>\n",
              "      <td>Drug: Duvelisib|Procedure: Peripheral blood dr...</td>\n",
              "      <td>Overall survival|Length of hospital stay|Lengt...</td>\n",
              "      <td>Washington University School of Medicine|Veras...</td>\n",
              "      <td>All</td>\n",
              "      <td>18 Years and older   (Adult, Older Adult)</td>\n",
              "      <td>Phase 2</td>\n",
              "      <td>28.0</td>\n",
              "      <td>Other|Industry</td>\n",
              "      <td>Interventional</td>\n",
              "      <td>Allocation: Randomized|Intervention Model: Sin...</td>\n",
              "      <td>202007009</td>\n",
              "      <td>October 12, 2020</td>\n",
              "      <td>November 30, 2021</td>\n",
              "      <td>April 30, 2022</td>\n",
              "      <td>May 4, 2020</td>\n",
              "      <td>NaN</td>\n",
              "      <td>November 9, 2020</td>\n",
              "      <td>Washington University School of Medicine, Sain...</td>\n",
              "      <td>NaN</td>\n",
              "      <td>https://ClinicalTrials.gov/show/NCT04372602</td>\n",
              "    </tr>\n",
              "    <tr>\n",
              "      <th>1</th>\n",
              "      <td>2</td>\n",
              "      <td>NCT04364698</td>\n",
              "      <td>Observational Cohort of COVID-19 Patients at R...</td>\n",
              "      <td>COVID-RPC</td>\n",
              "      <td>Recruiting</td>\n",
              "      <td>No Results Available</td>\n",
              "      <td>COVID-19</td>\n",
              "      <td>NaN</td>\n",
              "      <td>clinical, biological and radiological characte...</td>\n",
              "      <td>Assistance Publique - Hôpitaux de Paris</td>\n",
              "      <td>All</td>\n",
              "      <td>18 Years and older   (Adult, Older Adult)</td>\n",
              "      <td>NaN</td>\n",
              "      <td>500.0</td>\n",
              "      <td>Other</td>\n",
              "      <td>Observational</td>\n",
              "      <td>Observational Model: Cohort|Time Perspective: ...</td>\n",
              "      <td>20SBS-COVID-RPC</td>\n",
              "      <td>May 7, 2020</td>\n",
              "      <td>June 2020</td>\n",
              "      <td>June 2020</td>\n",
              "      <td>April 28, 2020</td>\n",
              "      <td>NaN</td>\n",
              "      <td>May 14, 2020</td>\n",
              "      <td>Department of Infectiology, Raymond Poincaré H...</td>\n",
              "      <td>NaN</td>\n",
              "      <td>https://ClinicalTrials.gov/show/NCT04364698</td>\n",
              "    </tr>\n",
              "    <tr>\n",
              "      <th>2</th>\n",
              "      <td>3</td>\n",
              "      <td>NCT04482621</td>\n",
              "      <td>Decitabine for Coronavirus (COVID-19) Pneumoni...</td>\n",
              "      <td>DART</td>\n",
              "      <td>Recruiting</td>\n",
              "      <td>No Results Available</td>\n",
              "      <td>COVID-19</td>\n",
              "      <td>Drug: Decitabine|Other: Placebo Saline</td>\n",
              "      <td>Change in clinical state as assessed by a 6-po...</td>\n",
              "      <td>Johns Hopkins University</td>\n",
              "      <td>All</td>\n",
              "      <td>18 Years and older   (Adult, Older Adult)</td>\n",
              "      <td>Phase 2</td>\n",
              "      <td>40.0</td>\n",
              "      <td>Other</td>\n",
              "      <td>Interventional</td>\n",
              "      <td>Allocation: Randomized|Intervention Model: Par...</td>\n",
              "      <td>IRB00247544</td>\n",
              "      <td>September 14, 2020</td>\n",
              "      <td>May 2021</td>\n",
              "      <td>July 2021</td>\n",
              "      <td>July 22, 2020</td>\n",
              "      <td>NaN</td>\n",
              "      <td>September 25, 2020</td>\n",
              "      <td>Johns Hopkins University, Baltimore, Maryland,...</td>\n",
              "      <td>NaN</td>\n",
              "      <td>https://ClinicalTrials.gov/show/NCT04482621</td>\n",
              "    </tr>\n",
              "    <tr>\n",
              "      <th>3</th>\n",
              "      <td>4</td>\n",
              "      <td>NCT04459637</td>\n",
              "      <td>COVID-19 Surveillance Based on Smart Wearable ...</td>\n",
              "      <td>COVID-19SWD</td>\n",
              "      <td>Not yet recruiting</td>\n",
              "      <td>No Results Available</td>\n",
              "      <td>COVID-19</td>\n",
              "      <td>NaN</td>\n",
              "      <td>Deterioration of the condition|Mortality|The i...</td>\n",
              "      <td>Peking University First Hospital</td>\n",
              "      <td>All</td>\n",
              "      <td>18 Years to 75 Years   (Adult, Older Adult)</td>\n",
              "      <td>NaN</td>\n",
              "      <td>200.0</td>\n",
              "      <td>Other</td>\n",
              "      <td>Observational</td>\n",
              "      <td>Observational Model: Cohort|Time Perspective: ...</td>\n",
              "      <td>2020055-0615</td>\n",
              "      <td>July 1, 2020</td>\n",
              "      <td>March 10, 2021</td>\n",
              "      <td>March 10, 2021</td>\n",
              "      <td>July 7, 2020</td>\n",
              "      <td>NaN</td>\n",
              "      <td>July 7, 2020</td>\n",
              "      <td>Peking University First Hospital, Beijing, Bei...</td>\n",
              "      <td>NaN</td>\n",
              "      <td>https://ClinicalTrials.gov/show/NCT04459637</td>\n",
              "    </tr>\n",
              "    <tr>\n",
              "      <th>4</th>\n",
              "      <td>5</td>\n",
              "      <td>NCT04425538</td>\n",
              "      <td>A Phase 2 Trial of Infliximab in Coronavirus D...</td>\n",
              "      <td>NaN</td>\n",
              "      <td>Recruiting</td>\n",
              "      <td>No Results Available</td>\n",
              "      <td>COVID-19</td>\n",
              "      <td>Drug: Infliximab</td>\n",
              "      <td>Time to improvement in oxygenation|28-day mort...</td>\n",
              "      <td>Tufts Medical Center|National Institutes of He...</td>\n",
              "      <td>All</td>\n",
              "      <td>18 Years and older   (Adult, Older Adult)</td>\n",
              "      <td>Phase 2</td>\n",
              "      <td>17.0</td>\n",
              "      <td>Other|NIH</td>\n",
              "      <td>Interventional</td>\n",
              "      <td>Allocation: N/A|Intervention Model: Single Gro...</td>\n",
              "      <td>STUDY00000564</td>\n",
              "      <td>June 1, 2020</td>\n",
              "      <td>September 2020</td>\n",
              "      <td>December 2020</td>\n",
              "      <td>June 11, 2020</td>\n",
              "      <td>NaN</td>\n",
              "      <td>June 11, 2020</td>\n",
              "      <td>Tufts Medical Center, Boston, Massachusetts, U...</td>\n",
              "      <td>NaN</td>\n",
              "      <td>https://ClinicalTrials.gov/show/NCT04425538</td>\n",
              "    </tr>\n",
              "    <tr>\n",
              "      <th>...</th>\n",
              "      <td>...</td>\n",
              "      <td>...</td>\n",
              "      <td>...</td>\n",
              "      <td>...</td>\n",
              "      <td>...</td>\n",
              "      <td>...</td>\n",
              "      <td>...</td>\n",
              "      <td>...</td>\n",
              "      <td>...</td>\n",
              "      <td>...</td>\n",
              "      <td>...</td>\n",
              "      <td>...</td>\n",
              "      <td>...</td>\n",
              "      <td>...</td>\n",
              "      <td>...</td>\n",
              "      <td>...</td>\n",
              "      <td>...</td>\n",
              "      <td>...</td>\n",
              "      <td>...</td>\n",
              "      <td>...</td>\n",
              "      <td>...</td>\n",
              "      <td>...</td>\n",
              "      <td>...</td>\n",
              "      <td>...</td>\n",
              "      <td>...</td>\n",
              "      <td>...</td>\n",
              "      <td>...</td>\n",
              "    </tr>\n",
              "    <tr>\n",
              "      <th>4169</th>\n",
              "      <td>4170</td>\n",
              "      <td>NCT03871491</td>\n",
              "      <td>Azithromycin-Prevention in Labor Use Study (A-...</td>\n",
              "      <td>NaN</td>\n",
              "      <td>Recruiting</td>\n",
              "      <td>No Results Available</td>\n",
              "      <td>Maternal Death|Maternal Infections Affecting F...</td>\n",
              "      <td>Drug: Azithromycin|Drug: Placebo</td>\n",
              "      <td>Maternal: Incidence of maternal death or sepsi...</td>\n",
              "      <td>NICHD Global Network for Women's and Children'...</td>\n",
              "      <td>Female</td>\n",
              "      <td>18 Years to 45 Years   (Adult)</td>\n",
              "      <td>Phase 3</td>\n",
              "      <td>34000.0</td>\n",
              "      <td>Other</td>\n",
              "      <td>Interventional</td>\n",
              "      <td>Allocation: Randomized|Intervention Model: Par...</td>\n",
              "      <td>CP Azithromycin</td>\n",
              "      <td>September 1, 2020</td>\n",
              "      <td>September 1, 2023</td>\n",
              "      <td>September 1, 2023</td>\n",
              "      <td>March 12, 2019</td>\n",
              "      <td>NaN</td>\n",
              "      <td>September 16, 2020</td>\n",
              "      <td>ICDDRB, Dhaka, Bangladesh|Kinshasa School of P...</td>\n",
              "      <td>NaN</td>\n",
              "      <td>https://ClinicalTrials.gov/show/NCT03871491</td>\n",
              "    </tr>\n",
              "    <tr>\n",
              "      <th>4170</th>\n",
              "      <td>4171</td>\n",
              "      <td>NCT04386876</td>\n",
              "      <td>Bioequivalence Study of Lopinavir/Ritonavir 20...</td>\n",
              "      <td>Orvical</td>\n",
              "      <td>Active, not recruiting</td>\n",
              "      <td>No Results Available</td>\n",
              "      <td>Bioequivalence</td>\n",
              "      <td>Drug: Lopinavir 200Mg/Ritonavir 50Mg FT Test|D...</td>\n",
              "      <td>Primary PK End Points</td>\n",
              "      <td>World Medicine ILAC SAN. ve TIC. A.S.|Novageni...</td>\n",
              "      <td>Male</td>\n",
              "      <td>20 Years to 40 Years   (Adult)</td>\n",
              "      <td>Phase 1</td>\n",
              "      <td>30.0</td>\n",
              "      <td>Industry|Other</td>\n",
              "      <td>Interventional</td>\n",
              "      <td>Allocation: Randomized|Intervention Model: Cro...</td>\n",
              "      <td>NOV2020/01911|FARGE365</td>\n",
              "      <td>April 30, 2020</td>\n",
              "      <td>May 22, 2020</td>\n",
              "      <td>June 20, 2020</td>\n",
              "      <td>May 13, 2020</td>\n",
              "      <td>NaN</td>\n",
              "      <td>May 15, 2020</td>\n",
              "      <td>Novagenix Drug R&amp;D Center, Akyurt, Ankara, Tur...</td>\n",
              "      <td>NaN</td>\n",
              "      <td>https://ClinicalTrials.gov/show/NCT04386876</td>\n",
              "    </tr>\n",
              "    <tr>\n",
              "      <th>4171</th>\n",
              "      <td>4172</td>\n",
              "      <td>NCT04621552</td>\n",
              "      <td>Virtual Simulation for Woven EndoBridge Device...</td>\n",
              "      <td>VS-WEB</td>\n",
              "      <td>Completed</td>\n",
              "      <td>No Results Available</td>\n",
              "      <td>Aneurysm|Intracranial Aneurysm</td>\n",
              "      <td>Device: WEB embolization</td>\n",
              "      <td>Median duration of the intervention|Median rad...</td>\n",
              "      <td>University Hospital, Montpellier|University Ho...</td>\n",
              "      <td>All</td>\n",
              "      <td>18 Years and older   (Adult, Older Adult)</td>\n",
              "      <td>NaN</td>\n",
              "      <td>186.0</td>\n",
              "      <td>Other</td>\n",
              "      <td>Observational</td>\n",
              "      <td>Observational Model: Case-Control|Time Perspec...</td>\n",
              "      <td>RECHMPL20_0601</td>\n",
              "      <td>January 1, 2015</td>\n",
              "      <td>June 30, 2020</td>\n",
              "      <td>October 30, 2020</td>\n",
              "      <td>November 9, 2020</td>\n",
              "      <td>NaN</td>\n",
              "      <td>November 10, 2020</td>\n",
              "      <td>Uhmontpellier, Montpellier, France</td>\n",
              "      <td>NaN</td>\n",
              "      <td>https://ClinicalTrials.gov/show/NCT04621552</td>\n",
              "    </tr>\n",
              "    <tr>\n",
              "      <th>4172</th>\n",
              "      <td>4173</td>\n",
              "      <td>NCT04276987</td>\n",
              "      <td>A Pilot Clinical Study on Inhalation of Mesenc...</td>\n",
              "      <td>NaN</td>\n",
              "      <td>Completed</td>\n",
              "      <td>No Results Available</td>\n",
              "      <td>Coronavirus</td>\n",
              "      <td>Biological: MSCs-derived exosomes</td>\n",
              "      <td>Adverse reaction (AE) and severe adverse react...</td>\n",
              "      <td>Ruijin Hospital|Shanghai Public Health Clinica...</td>\n",
              "      <td>All</td>\n",
              "      <td>18 Years to 75 Years   (Adult, Older Adult)</td>\n",
              "      <td>Phase 1</td>\n",
              "      <td>24.0</td>\n",
              "      <td>Other|Industry</td>\n",
              "      <td>Interventional</td>\n",
              "      <td>Allocation: N/A|Intervention Model: Single Gro...</td>\n",
              "      <td>MEXCOVID</td>\n",
              "      <td>February 15, 2020</td>\n",
              "      <td>May 31, 2020</td>\n",
              "      <td>July 31, 2020</td>\n",
              "      <td>February 19, 2020</td>\n",
              "      <td>NaN</td>\n",
              "      <td>September 7, 2020</td>\n",
              "      <td>Ruijin Hospital Shanghai Jiao Tong University ...</td>\n",
              "      <td>NaN</td>\n",
              "      <td>https://ClinicalTrials.gov/show/NCT04276987</td>\n",
              "    </tr>\n",
              "    <tr>\n",
              "      <th>4173</th>\n",
              "      <td>4174</td>\n",
              "      <td>NCT03474965</td>\n",
              "      <td>Study of Dose Confirmation and Safety of Criza...</td>\n",
              "      <td>NaN</td>\n",
              "      <td>Recruiting</td>\n",
              "      <td>No Results Available</td>\n",
              "      <td>Sickle Cell Disease (SCD)</td>\n",
              "      <td>Drug: Crizanlizumab</td>\n",
              "      <td>PK (AUCd15) after 1st dose|PD (AUCd15) after 1...</td>\n",
              "      <td>Novartis Pharmaceuticals|Novartis</td>\n",
              "      <td>All</td>\n",
              "      <td>6 Months to 17 Years   (Child)</td>\n",
              "      <td>Phase 2</td>\n",
              "      <td>100.0</td>\n",
              "      <td>Industry</td>\n",
              "      <td>Interventional</td>\n",
              "      <td>Allocation: N/A|Intervention Model: Single Gro...</td>\n",
              "      <td>CSEG101B2201|2017-001747-12</td>\n",
              "      <td>October 1, 2018</td>\n",
              "      <td>June 5, 2023</td>\n",
              "      <td>November 20, 2024</td>\n",
              "      <td>March 23, 2018</td>\n",
              "      <td>NaN</td>\n",
              "      <td>December 7, 2020</td>\n",
              "      <td>University of Alabama 1600 7th ave, Birmingham...</td>\n",
              "      <td>NaN</td>\n",
              "      <td>https://ClinicalTrials.gov/show/NCT03474965</td>\n",
              "    </tr>\n",
              "  </tbody>\n",
              "</table>\n",
              "<p>4174 rows × 27 columns</p>\n",
              "</div>"
            ],
            "text/plain": [
              "      Rank  ...                                          URL\n",
              "0        1  ...  https://ClinicalTrials.gov/show/NCT04372602\n",
              "1        2  ...  https://ClinicalTrials.gov/show/NCT04364698\n",
              "2        3  ...  https://ClinicalTrials.gov/show/NCT04482621\n",
              "3        4  ...  https://ClinicalTrials.gov/show/NCT04459637\n",
              "4        5  ...  https://ClinicalTrials.gov/show/NCT04425538\n",
              "...    ...  ...                                          ...\n",
              "4169  4170  ...  https://ClinicalTrials.gov/show/NCT03871491\n",
              "4170  4171  ...  https://ClinicalTrials.gov/show/NCT04386876\n",
              "4171  4172  ...  https://ClinicalTrials.gov/show/NCT04621552\n",
              "4172  4173  ...  https://ClinicalTrials.gov/show/NCT04276987\n",
              "4173  4174  ...  https://ClinicalTrials.gov/show/NCT03474965\n",
              "\n",
              "[4174 rows x 27 columns]"
            ]
          },
          "metadata": {
            "tags": []
          },
          "execution_count": 3
        }
      ]
    },
    {
      "cell_type": "code",
      "metadata": {
        "colab": {
          "base_uri": "https://localhost:8080/"
        },
        "id": "6a6sKxtzYDoW",
        "outputId": "e5576c4c-46cd-4662-ee57-5f6c7cfaccd2"
      },
      "source": [
        "data.info"
      ],
      "execution_count": 4,
      "outputs": [
        {
          "output_type": "execute_result",
          "data": {
            "text/plain": [
              "<bound method DataFrame.info of       Rank  ...                                          URL\n",
              "0        1  ...  https://ClinicalTrials.gov/show/NCT04372602\n",
              "1        2  ...  https://ClinicalTrials.gov/show/NCT04364698\n",
              "2        3  ...  https://ClinicalTrials.gov/show/NCT04482621\n",
              "3        4  ...  https://ClinicalTrials.gov/show/NCT04459637\n",
              "4        5  ...  https://ClinicalTrials.gov/show/NCT04425538\n",
              "...    ...  ...                                          ...\n",
              "4169  4170  ...  https://ClinicalTrials.gov/show/NCT03871491\n",
              "4170  4171  ...  https://ClinicalTrials.gov/show/NCT04386876\n",
              "4171  4172  ...  https://ClinicalTrials.gov/show/NCT04621552\n",
              "4172  4173  ...  https://ClinicalTrials.gov/show/NCT04276987\n",
              "4173  4174  ...  https://ClinicalTrials.gov/show/NCT03474965\n",
              "\n",
              "[4174 rows x 27 columns]>"
            ]
          },
          "metadata": {
            "tags": []
          },
          "execution_count": 4
        }
      ]
    },
    {
      "cell_type": "code",
      "metadata": {
        "colab": {
          "base_uri": "https://localhost:8080/"
        },
        "id": "8-oJmE2kc78k",
        "outputId": "b459c519-7728-4e72-f6c3-2d5f4a0a78c9"
      },
      "source": [
        "data.isnull().sum()"
      ],
      "execution_count": 5,
      "outputs": [
        {
          "output_type": "execute_result",
          "data": {
            "text/plain": [
              "Rank                          0\n",
              "NCT Number                    0\n",
              "Title                         0\n",
              "Acronym                    2333\n",
              "Status                        0\n",
              "Study Results                 0\n",
              "Conditions                    0\n",
              "Interventions               636\n",
              "Outcome Measures             32\n",
              "Sponsor/Collaborators         0\n",
              "Gender                        8\n",
              "Age                           0\n",
              "Phases                     1798\n",
              "Enrollment                   31\n",
              "Funded Bys                    0\n",
              "Study Type                    0\n",
              "Study Designs                32\n",
              "Other IDs                     1\n",
              "Start Date                   31\n",
              "Primary Completion Date      32\n",
              "Completion Date              32\n",
              "First Posted                  0\n",
              "Results First Posted       4157\n",
              "Last Update Posted            0\n",
              "Locations                   505\n",
              "Study Documents            4069\n",
              "URL                           0\n",
              "dtype: int64"
            ]
          },
          "metadata": {
            "tags": []
          },
          "execution_count": 5
        }
      ]
    },
    {
      "cell_type": "markdown",
      "metadata": {
        "id": "JVXwjRywdKsH"
      },
      "source": [
        "There are some column which has huge percent of missing values\r\n",
        "\r\n",
        "These column will be droped as well as unwanted column in the project"
      ]
    },
    {
      "cell_type": "code",
      "metadata": {
        "colab": {
          "base_uri": "https://localhost:8080/"
        },
        "id": "0YVF5IrNdaS8",
        "outputId": "637c3b48-5e40-4d84-a415-717bc3404fbf"
      },
      "source": [
        "data=data.drop(['NCT Number','Acronym', 'Results First Posted','Study Documents','Study Results','Conditions','Outcome Measures',\r\n",
        "                'Sponsor/Collaborators','Funded Bys','Study Type','Study Designs','Other IDs','Primary Completion Date',\r\n",
        "                'First Posted','Last Update Posted','Rank'], axis=1)\r\n",
        "data.isnull().sum()"
      ],
      "execution_count": 6,
      "outputs": [
        {
          "output_type": "execute_result",
          "data": {
            "text/plain": [
              "Title                 0\n",
              "Status                0\n",
              "Interventions       636\n",
              "Gender                8\n",
              "Age                   0\n",
              "Phases             1798\n",
              "Enrollment           31\n",
              "Start Date           31\n",
              "Completion Date      32\n",
              "Locations           505\n",
              "URL                   0\n",
              "dtype: int64"
            ]
          },
          "metadata": {
            "tags": []
          },
          "execution_count": 6
        }
      ]
    },
    {
      "cell_type": "markdown",
      "metadata": {
        "id": "b356TGf7f1yg"
      },
      "source": [
        "**Now droping any Row that contain missing values**"
      ]
    },
    {
      "cell_type": "code",
      "metadata": {
        "colab": {
          "base_uri": "https://localhost:8080/"
        },
        "id": "70dqgEq2e-ml",
        "outputId": "1adeb11b-1539-42e5-bd8a-799df8df7e93"
      },
      "source": [
        "data=data.dropna(how='any')\r\n",
        "data.isnull().sum()"
      ],
      "execution_count": 7,
      "outputs": [
        {
          "output_type": "execute_result",
          "data": {
            "text/plain": [
              "Title              0\n",
              "Status             0\n",
              "Interventions      0\n",
              "Gender             0\n",
              "Age                0\n",
              "Phases             0\n",
              "Enrollment         0\n",
              "Start Date         0\n",
              "Completion Date    0\n",
              "Locations          0\n",
              "URL                0\n",
              "dtype: int64"
            ]
          },
          "metadata": {
            "tags": []
          },
          "execution_count": 7
        }
      ]
    },
    {
      "cell_type": "code",
      "metadata": {
        "colab": {
          "base_uri": "https://localhost:8080/"
        },
        "id": "xMsCu51tgFE2",
        "outputId": "fed9bd15-3cd9-4b03-f880-241dd563d615"
      },
      "source": [
        "data.shape"
      ],
      "execution_count": 8,
      "outputs": [
        {
          "output_type": "execute_result",
          "data": {
            "text/plain": [
              "(2051, 11)"
            ]
          },
          "metadata": {
            "tags": []
          },
          "execution_count": 8
        }
      ]
    },
    {
      "cell_type": "markdown",
      "metadata": {
        "id": "6BjfTYGGKr_a"
      },
      "source": [
        "Reseting the index after the the preprocessing"
      ]
    },
    {
      "cell_type": "code",
      "metadata": {
        "id": "luTT5wYbKzo3"
      },
      "source": [
        "data.reset_index(drop=True, inplace=True)"
      ],
      "execution_count": 9,
      "outputs": []
    },
    {
      "cell_type": "code",
      "metadata": {
        "id": "rWfgUekqDcxw"
      },
      "source": [
        "data.to_csv('COVID_19_CCT.csv')"
      ],
      "execution_count": 10,
      "outputs": []
    }
  ]
}